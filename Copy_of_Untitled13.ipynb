{
  "nbformat": 4,
  "nbformat_minor": 0,
  "metadata": {
    "colab": {
      "provenance": [],
      "authorship_tag": "ABX9TyOKYQc6B+yTZ2wgc+uU7AXo",
      "include_colab_link": true
    },
    "kernelspec": {
      "name": "python3",
      "display_name": "Python 3"
    },
    "language_info": {
      "name": "python"
    }
  },
  "cells": [
    {
      "cell_type": "markdown",
      "metadata": {
        "id": "view-in-github",
        "colab_type": "text"
      },
      "source": [
        "<a href=\"https://colab.research.google.com/github/irvineAlgotrading/optim/blob/main/Copy_of_Untitled13.ipynb\" target=\"_parent\"><img src=\"https://colab.research.google.com/assets/colab-badge.svg\" alt=\"Open In Colab\"/></a>"
      ]
    },
    {
      "cell_type": "code",
      "execution_count": null,
      "metadata": {
        "colab": {
          "base_uri": "https://localhost:8080/"
        },
        "id": "AW3szmRPPN-k",
        "outputId": "156edc66-17b6-4824-f2a3-3a72cb8ab874"
      },
      "outputs": [
        {
          "output_type": "stream",
          "name": "stdout",
          "text": [
            "Epoch 1\n",
            "-------------------------------\n",
            "Epoch 2\n",
            "-------------------------------\n",
            "Epoch 3\n",
            "-------------------------------\n",
            "Epoch 4\n",
            "-------------------------------\n",
            "Epoch 5\n",
            "-------------------------------\n",
            "Done!\n"
          ]
        }
      ],
      "source": [
        "import torch\n",
        "from torchvision import datasets, transforms\n",
        "\n",
        "# Load MNIST dataset\n",
        "transform = transforms.Compose([transforms.ToTensor(), transforms.Normalize((0.5,), (0.5,))])\n",
        "train_set = datasets.MNIST('PATH_TO_STORE_TRAINSET', download=True, train=True, transform=transform)\n",
        "test_set = datasets.MNIST('PATH_TO_STORE_TESTSET', download=True, train=False, transform=transform)\n",
        "\n",
        "# Data loaders\n",
        "train_loader = torch.utils.data.DataLoader(train_set, batch_size=1, shuffle=True)\n",
        "test_loader = torch.utils.data.DataLoader(test_set, batch_size=1, shuffle=True)\n",
        "\n",
        "# Define the model\n",
        "class NeuralNetwork(torch.nn.Module):\n",
        "    def __init__(self):\n",
        "        super(NeuralNetwork, self).__init__()\n",
        "        self.flatten = torch.nn.Flatten()\n",
        "        self.linear_relu_stack = torch.nn.Sequential(\n",
        "            torch.nn.Linear(28*28, 512),\n",
        "            torch.nn.ReLU(),\n",
        "            torch.nn.Linear(512, 10),\n",
        "            torch.nn.ReLU()\n",
        "        )\n",
        "\n",
        "    def forward(self, x):\n",
        "        x = self.flatten(x)\n",
        "        logits = self.linear_relu_stack(x)\n",
        "        return logits\n",
        "\n",
        "model = NeuralNetwork()\n",
        "\n",
        "# Define the loss function and optimizer\n",
        "loss_fn = torch.nn.CrossEntropyLoss()\n",
        "optimizer = torch.optim.SGD(model.parameters(), lr=1e-3)\n",
        "\n",
        "# Training loop\n",
        "def train(dataloader, model, loss_fn, optimizer):\n",
        "    for batch, (X, y) in enumerate(dataloader):\n",
        "        # Compute prediction and loss\n",
        "        pred = model(X)\n",
        "        loss = loss_fn(pred, y)\n",
        "\n",
        "        # Backpropagation\n",
        "        optimizer.zero_grad()\n",
        "        loss.backward()\n",
        "        optimizer.step()\n",
        "\n",
        "# Run the training loop\n",
        "epochs = 5\n",
        "for t in range(epochs):\n",
        "    print(f\"Epoch {t+1}\\n-------------------------------\")\n",
        "    train(train_loader, model, loss_fn, optimizer)\n",
        "print(\"Done!\")\n"
      ]
    },
    {
      "cell_type": "code",
      "source": [
        "import matplotlib.pyplot as plt\n",
        "import random\n",
        "import time\n",
        "\n",
        "# After training, we can test on random images\n",
        "\n",
        "def test_random_image(dataloader, model):\n",
        "    image_index = random.randint(0, len(dataloader.dataset)-1)\n",
        "    image, label = dataloader.dataset[image_index]\n",
        "\n",
        "    # Show the image\n",
        "    plt.imshow(image.squeeze(), cmap='gray')\n",
        "    plt.show()\n",
        "    print(f\"Actual Label: {label}\")\n",
        "\n",
        "    # Make a prediction\n",
        "    start_time = time.time()\n",
        "    model.eval()\n",
        "    with torch.no_grad():\n",
        "        image = image.unsqueeze(0)  # Add an extra dimension for the batch\n",
        "        prediction = model(image)\n",
        "    end_time = time.time()\n",
        "    prediction_time = end_time - start_time\n",
        "\n",
        "    softmax = torch.nn.functional.softmax(prediction, dim=1)\n",
        "    predicted_prob, predicted_label = torch.max(softmax, 1)\n",
        "    print(f\"Predicted Label: {predicted_label.item()}\")\n",
        "    print(f\"Prediction Certainty: {predicted_prob.item()*100:.2f}%\")\n",
        "    print(f\"Prediction Time: {prediction_time} seconds\")\n",
        "\n",
        "\n",
        "# Call the function to test on a random image from the test set\n",
        "test_random_image(test_loader, model)\n"
      ],
      "metadata": {
        "colab": {
          "base_uri": "https://localhost:8080/",
          "height": 499
        },
        "id": "7mAMms6DQUb4",
        "outputId": "b7a52e2c-bbe9-4737-9d6f-e3ec93b8686d"
      },
      "execution_count": null,
      "outputs": [
        {
          "output_type": "display_data",
          "data": {
            "text/plain": [
              "<Figure size 640x480 with 1 Axes>"
            ],
            "image/png": "[encoded data removed]"
          },
          "metadata": {}
        },
        {
          "output_type": "stream",
          "name": "stdout",
          "text": [
            "Actual Label: 7\n",
            "Predicted Label: 7\n",
            "Prediction Certainty: 99.32%\n",
            "Prediction Time: 0.001302957534790039 seconds\n"
          ]
        }
      ]
    }
  ]
}